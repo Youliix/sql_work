{
 "cells": [
  {
   "cell_type": "code",
   "execution_count": 39,
   "metadata": {},
   "outputs": [],
   "source": [
    "import pandas as pd"
   ]
  },
  {
   "cell_type": "code",
   "execution_count": 40,
   "metadata": {},
   "outputs": [],
   "source": [
    "df = pd.read_csv('CRM_data.csv')"
   ]
  },
  {
   "cell_type": "code",
   "execution_count": 41,
   "metadata": {},
   "outputs": [
    {
     "data": {
      "text/html": [
       "<div>\n",
       "<style scoped>\n",
       "    .dataframe tbody tr th:only-of-type {\n",
       "        vertical-align: middle;\n",
       "    }\n",
       "\n",
       "    .dataframe tbody tr th {\n",
       "        vertical-align: top;\n",
       "    }\n",
       "\n",
       "    .dataframe thead th {\n",
       "        text-align: right;\n",
       "    }\n",
       "</style>\n",
       "<table border=\"1\" class=\"dataframe\">\n",
       "  <thead>\n",
       "    <tr style=\"text-align: right;\">\n",
       "      <th></th>\n",
       "      <th>Subscribe date</th>\n",
       "      <th>Stagename</th>\n",
       "      <th>Project type</th>\n",
       "      <th>Property kind</th>\n",
       "      <th>Source of lead</th>\n",
       "      <th>Amount</th>\n",
       "      <th>Lost reason</th>\n",
       "      <th>Lost date</th>\n",
       "      <th>Won</th>\n",
       "      <th>Cout du lead</th>\n",
       "    </tr>\n",
       "  </thead>\n",
       "  <tbody>\n",
       "    <tr>\n",
       "      <th>0</th>\n",
       "      <td>2019-02-25</td>\n",
       "      <td>Gagné</td>\n",
       "      <td>primary_residence</td>\n",
       "      <td>old</td>\n",
       "      <td>partner1</td>\n",
       "      <td>118</td>\n",
       "      <td>NaN</td>\n",
       "      <td>NaN</td>\n",
       "      <td>1.0</td>\n",
       "      <td>NaN</td>\n",
       "    </tr>\n",
       "    <tr>\n",
       "      <th>1</th>\n",
       "      <td>2019-02-26</td>\n",
       "      <td>Perdu</td>\n",
       "      <td>primary_residence</td>\n",
       "      <td>new</td>\n",
       "      <td>partner1</td>\n",
       "      <td>184</td>\n",
       "      <td>N'a jamais répondu (+5 appels)</td>\n",
       "      <td>2019-03-13</td>\n",
       "      <td>NaN</td>\n",
       "      <td>NaN</td>\n",
       "    </tr>\n",
       "  </tbody>\n",
       "</table>\n",
       "</div>"
      ],
      "text/plain": [
       "  Subscribe date Stagename       Project type Property kind Source of lead  \\\n",
       "0     2019-02-25     Gagné  primary_residence           old       partner1   \n",
       "1     2019-02-26     Perdu  primary_residence           new       partner1   \n",
       "\n",
       "   Amount                     Lost reason   Lost date  Won  Cout du lead  \n",
       "0     118                             NaN         NaN  1.0           NaN  \n",
       "1     184  N'a jamais répondu (+5 appels)  2019-03-13  NaN           NaN  "
      ]
     },
     "execution_count": 41,
     "metadata": {},
     "output_type": "execute_result"
    }
   ],
   "source": [
    "df.head(2)"
   ]
  },
  {
   "cell_type": "code",
   "execution_count": 42,
   "metadata": {},
   "outputs": [
    {
     "name": "stdout",
     "output_type": "stream",
     "text": [
      "<class 'pandas.core.frame.DataFrame'>\n",
      "RangeIndex: 3606 entries, 0 to 3605\n",
      "Data columns (total 10 columns):\n",
      " #   Column          Non-Null Count  Dtype  \n",
      "---  ------          --------------  -----  \n",
      " 0   Subscribe date  3606 non-null   object \n",
      " 1   Stagename       3606 non-null   object \n",
      " 2   Project type    3600 non-null   object \n",
      " 3   Property kind   1847 non-null   object \n",
      " 4   Source of lead  1562 non-null   object \n",
      " 5   Amount          3606 non-null   int64  \n",
      " 6   Lost reason     3205 non-null   object \n",
      " 7   Lost date       1842 non-null   object \n",
      " 8   Won             368 non-null    float64\n",
      " 9   Cout du lead    834 non-null    float64\n",
      "dtypes: float64(2), int64(1), object(7)\n",
      "memory usage: 281.8+ KB\n"
     ]
    }
   ],
   "source": [
    "df.info()"
   ]
  },
  {
   "cell_type": "code",
   "execution_count": 43,
   "metadata": {},
   "outputs": [
    {
     "data": {
      "text/plain": [
       "Subscribe date     0.000000\n",
       "Stagename          0.000000\n",
       "Project type       0.166389\n",
       "Property kind     48.779811\n",
       "Source of lead    56.683306\n",
       "Amount             0.000000\n",
       "Lost reason       11.120355\n",
       "Lost date         48.918469\n",
       "Won               89.794786\n",
       "Cout du lead      76.871880\n",
       "dtype: float64"
      ]
     },
     "execution_count": 43,
     "metadata": {},
     "output_type": "execute_result"
    }
   ],
   "source": [
    "df.isnull().mean()*100"
   ]
  },
  {
   "cell_type": "code",
   "execution_count": 44,
   "metadata": {},
   "outputs": [
    {
     "data": {
      "text/plain": [
       "Subscribe date     88\n",
       "Stagename           2\n",
       "Project type        3\n",
       "Property kind       5\n",
       "Source of lead     10\n",
       "Amount            207\n",
       "Lost reason        12\n",
       "Lost date         157\n",
       "Won                 1\n",
       "Cout du lead       27\n",
       "dtype: int64"
      ]
     },
     "execution_count": 44,
     "metadata": {},
     "output_type": "execute_result"
    }
   ],
   "source": [
    "df.nunique()"
   ]
  },
  {
   "cell_type": "code",
   "execution_count": 45,
   "metadata": {},
   "outputs": [
    {
     "name": "stdout",
     "output_type": "stream",
     "text": [
      "Subscribe date ['2019-02-25' '2019-02-26' '2019-01-09' '2019-03-22' '2019-03-03'\n",
      " '2019-03-09' '2019-03-21' '2019-03-27' '2019-02-07' '2019-01-05'\n",
      " '2019-01-17' '2019-02-11' '2019-01-08' '2019-01-12' '2019-01-20'\n",
      " '2019-01-02' '2019-01-04' '2019-02-16' '2019-01-19' '2019-02-22'\n",
      " '2019-02-09' '2019-02-21' '2019-02-28' '2019-03-28' '2019-03-23'\n",
      " '2019-02-27' '2019-01-16' '2019-02-08' '2019-02-20' '2019-02-13'\n",
      " '2019-02-17' '2019-02-03' '2019-02-01' '2019-01-06' '2019-01-27'\n",
      " '2019-01-26' '2019-01-07' '2019-01-23' '2019-01-14' '2019-02-10'\n",
      " '2019-03-26' '2019-03-05' '2019-01-03' '2019-01-13' '2019-02-18'\n",
      " '2019-01-01' '2019-03-25' '2019-03-14' '2019-03-07' '2019-03-01'\n",
      " '2019-03-04' '2019-03-13' '2019-03-20' '2019-03-19' '2019-03-29'\n",
      " '2019-01-30' '2019-01-15' '2019-03-18' '2019-01-11' '2019-01-29'\n",
      " '2019-03-06' '2019-01-10' '2019-02-06' '2019-02-15' '2019-02-02'\n",
      " '2019-03-11' '2019-03-08' '2019-03-15' '2019-03-02' '2019-03-16'\n",
      " '2019-03-10' '2019-03-17' '2019-03-12' '2019-02-05' '2019-01-31'\n",
      " '2019-02-14' '2019-01-25' '2019-03-24' '2019-01-18' '2019-01-24'\n",
      " '2019-02-23' '2019-02-24' '2019-02-19' '2019-01-28' '2019-02-04'\n",
      " '2019-01-21' '2019-02-12' '2019-01-22']\n",
      "Stagename ['Gagné' 'Perdu']\n",
      "Project type ['primary_residence' 'rental_investment' 'secondary_residence' nan]\n",
      "Property kind ['old' 'new' nan 'VEFA' 'land_construction' 'construction']\n",
      "Source of lead ['partner1' 'partner10' 'partner2' 'partner3' 'partner4' 'partner5'\n",
      " 'partner6' 'partner7' 'partner8' 'partner9' nan]\n",
      "Amount [118 184 243 215 142 246  77 162  60 108 123 205 127 111 153 226 141  62\n",
      "  69 200 100  89 241  55 231 211 207 181 112 107 124 242 183 125 240 103\n",
      "  76 157 137 175 212  84 189 199  53 185  75 208 190 159 131 166 139 169\n",
      " 197 163 144 121  87 220 122  85 244 224  80 249 102 235 164 209 237 104\n",
      " 120  61 233 276 204 188 245 272 278 174 259 285 277 228 173  81 192  58\n",
      " 150 152 206 147 172  67 132 213 225 171 248 221 136 135 250 219 198  54\n",
      " 196 179  96 138  99 129 115  52  72 229 133  74 110 178 105  66 161 155\n",
      " 109 146 148 232 222  97 202 151 128 216 126 247 195  88 158  90 101 201\n",
      "  70  64 156 140  78 193 177 236  57 217 167  63 214 149 187  68 194  93\n",
      " 134 176  83  65  98 230 143 218 210 180 154 117 234 182 114  51 203 168\n",
      "  92  91  94 160  56  71 186 227 191  95 145  50 223  59  79  73 113 119\n",
      " 239 170 165 116 238 130 106  82  86]\n",
      "Lost reason [nan \"N'a jamais répondu (+5 appels)\"\n",
      " 'Projet en recherche / Projet lointain'\n",
      " 'Ne souhaite pas faire ce dossier' 'Perdu contre autre banque'\n",
      " 'A répondu mais ne répond plus (+5 appels)' 'Test'\n",
      " 'Dossier non finançable' 'Projet arrêté' 'Faux email & numéro' 'Doublon'\n",
      " 'Perdu contre autre courtier' 'Client extrêmement difficile']\n",
      "Lost date [nan '2019-03-13' '2019-03-28' '2019-05-06' '2019-04-24' '2019-05-02'\n",
      " '2019-06-12' '2019-03-20' '2019-03-29' '2019-08-01' '2019-05-18'\n",
      " '2019-03-22' '2019-04-04' '2019-03-06' '2019-03-05' '2019-03-26'\n",
      " '2019-04-23' '2019-08-28' '2019-04-29' '2019-08-30' '2019-09-09'\n",
      " '2019-04-17' '2019-05-20' '2019-09-19' '2019-06-18' '2019-09-05'\n",
      " '2019-06-25' '2019-04-05' '2019-04-02' '2019-06-27' '2019-06-04'\n",
      " '2019-06-24' '2019-07-24' '2019-06-13' '2019-05-31' '2019-05-15'\n",
      " '2019-05-28' '2019-04-13' '2019-05-10' '2019-07-23' '2019-04-09'\n",
      " '2019-06-06' '2019-05-03' '2019-05-09' '2019-09-17' '2019-07-12'\n",
      " '2019-10-03' '2019-04-01' '2019-05-16' '2019-07-03' '2019-05-22'\n",
      " '2019-03-16' '2019-09-12' '2019-03-08' '2019-04-03' '2019-04-16'\n",
      " '2019-03-15' '2019-03-14' '2019-03-27' '2019-05-17' '2019-04-26'\n",
      " '2019-04-20' '2019-03-25' '2019-09-23' '2019-04-12' '2019-06-22'\n",
      " '2019-03-18' '2019-03-19' '2019-05-29' '2019-03-09' '2019-06-21'\n",
      " '2019-03-07' '2019-04-11' '2019-03-11' '2019-03-12' '2019-06-26'\n",
      " '2019-05-13' '2019-04-08' '2019-04-18' '2019-04-15' '2019-09-18'\n",
      " '2019-09-24' '2019-06-19' '2019-09-06' '2019-03-30' '2019-03-21'\n",
      " '2019-05-24' '2019-04-19' '2019-04-10' '2019-05-14' '2019-07-22'\n",
      " '2019-07-05' '2019-08-05' '2019-09-11' '2019-07-15' '2019-09-25'\n",
      " '2019-10-02' '2019-06-03' '2019-07-17' '2019-07-09' '2019-07-10'\n",
      " '2019-03-04' '2019-09-26' '2019-05-21' '2019-08-27' '2019-02-11'\n",
      " '2019-04-30' '2019-07-19' '2019-09-04' '2019-08-06' '2019-06-11'\n",
      " '2019-09-02' '2019-07-08' '2019-05-23' '2019-08-12' '2019-07-16'\n",
      " '2019-05-27' '2019-05-25' '2019-09-10' '2019-04-25' '2019-09-03'\n",
      " '2019-06-20' '2019-06-17' '2019-10-04' '2019-07-01' '2019-09-16'\n",
      " '2019-06-05' '2019-07-31' '2019-08-13' '2019-07-04' '2019-07-11'\n",
      " '2019-08-19' '2019-06-15' '2019-07-18' '2019-10-01' '2019-06-14'\n",
      " '2019-07-02' '2019-09-13' '2019-05-07' '2019-08-23' '2019-06-08'\n",
      " '2019-08-21' '2019-03-23' '2019-08-02' '2019-08-22' '2019-08-26'\n",
      " '2019-08-08' '2019-06-07' '2019-08-07' '2019-08-24' '2019-08-09'\n",
      " '2019-06-10' '2019-04-14' '2019-04-06' '2019-09-30' '2019-06-01'\n",
      " '2019-05-04' '2019-08-14']\n",
      "Won [ 1. nan]\n",
      "Cout du lead [ nan  10.  33.  25.  28.  32.  34.  27.  30.  29.  31.  26.  35.  11.\n",
      "  16.  12.  20.  19.  17.  13.  14.  15.  18.  37.  23.  24.   5. 100.]\n"
     ]
    }
   ],
   "source": [
    "for col in df.columns:\n",
    "  unique_values = df[col].unique()\n",
    "  print(col, unique_values)"
   ]
  },
  {
   "cell_type": "code",
   "execution_count": 46,
   "metadata": {},
   "outputs": [],
   "source": [
    "df['Subscribe date'] = pd.to_datetime(df['Subscribe date'])\n",
    "df['Lost date'] = pd.to_datetime(df['Lost date'])"
   ]
  },
  {
   "cell_type": "code",
   "execution_count": 47,
   "metadata": {},
   "outputs": [
    {
     "data": {
      "text/html": [
       "<div>\n",
       "<style scoped>\n",
       "    .dataframe tbody tr th:only-of-type {\n",
       "        vertical-align: middle;\n",
       "    }\n",
       "\n",
       "    .dataframe tbody tr th {\n",
       "        vertical-align: top;\n",
       "    }\n",
       "\n",
       "    .dataframe thead th {\n",
       "        text-align: right;\n",
       "    }\n",
       "</style>\n",
       "<table border=\"1\" class=\"dataframe\">\n",
       "  <thead>\n",
       "    <tr style=\"text-align: right;\">\n",
       "      <th></th>\n",
       "      <th>Subscribe date</th>\n",
       "      <th>Stagename</th>\n",
       "      <th>Project type</th>\n",
       "      <th>Property kind</th>\n",
       "      <th>Source of lead</th>\n",
       "      <th>Amount</th>\n",
       "      <th>Lost reason</th>\n",
       "      <th>Lost date</th>\n",
       "      <th>Won</th>\n",
       "      <th>Cout du lead</th>\n",
       "      <th>Stagename_bin</th>\n",
       "    </tr>\n",
       "  </thead>\n",
       "  <tbody>\n",
       "    <tr>\n",
       "      <th>0</th>\n",
       "      <td>2019-02-25</td>\n",
       "      <td>Gagné</td>\n",
       "      <td>primary_residence</td>\n",
       "      <td>old</td>\n",
       "      <td>partner1</td>\n",
       "      <td>118</td>\n",
       "      <td>NaN</td>\n",
       "      <td>NaT</td>\n",
       "      <td>1.0</td>\n",
       "      <td>NaN</td>\n",
       "      <td>1</td>\n",
       "    </tr>\n",
       "    <tr>\n",
       "      <th>1</th>\n",
       "      <td>2019-02-26</td>\n",
       "      <td>Perdu</td>\n",
       "      <td>primary_residence</td>\n",
       "      <td>new</td>\n",
       "      <td>partner1</td>\n",
       "      <td>184</td>\n",
       "      <td>N'a jamais répondu (+5 appels)</td>\n",
       "      <td>2019-03-13</td>\n",
       "      <td>NaN</td>\n",
       "      <td>NaN</td>\n",
       "      <td>0</td>\n",
       "    </tr>\n",
       "    <tr>\n",
       "      <th>2</th>\n",
       "      <td>2019-01-09</td>\n",
       "      <td>Perdu</td>\n",
       "      <td>primary_residence</td>\n",
       "      <td>NaN</td>\n",
       "      <td>partner1</td>\n",
       "      <td>243</td>\n",
       "      <td>N'a jamais répondu (+5 appels)</td>\n",
       "      <td>NaT</td>\n",
       "      <td>NaN</td>\n",
       "      <td>NaN</td>\n",
       "      <td>0</td>\n",
       "    </tr>\n",
       "    <tr>\n",
       "      <th>3</th>\n",
       "      <td>2019-03-22</td>\n",
       "      <td>Perdu</td>\n",
       "      <td>primary_residence</td>\n",
       "      <td>new</td>\n",
       "      <td>partner1</td>\n",
       "      <td>215</td>\n",
       "      <td>Projet en recherche / Projet lointain</td>\n",
       "      <td>2019-03-28</td>\n",
       "      <td>NaN</td>\n",
       "      <td>NaN</td>\n",
       "      <td>0</td>\n",
       "    </tr>\n",
       "    <tr>\n",
       "      <th>4</th>\n",
       "      <td>2019-03-03</td>\n",
       "      <td>Gagné</td>\n",
       "      <td>rental_investment</td>\n",
       "      <td>old</td>\n",
       "      <td>partner1</td>\n",
       "      <td>142</td>\n",
       "      <td>NaN</td>\n",
       "      <td>NaT</td>\n",
       "      <td>1.0</td>\n",
       "      <td>NaN</td>\n",
       "      <td>1</td>\n",
       "    </tr>\n",
       "    <tr>\n",
       "      <th>...</th>\n",
       "      <td>...</td>\n",
       "      <td>...</td>\n",
       "      <td>...</td>\n",
       "      <td>...</td>\n",
       "      <td>...</td>\n",
       "      <td>...</td>\n",
       "      <td>...</td>\n",
       "      <td>...</td>\n",
       "      <td>...</td>\n",
       "      <td>...</td>\n",
       "      <td>...</td>\n",
       "    </tr>\n",
       "    <tr>\n",
       "      <th>3601</th>\n",
       "      <td>2019-01-26</td>\n",
       "      <td>Perdu</td>\n",
       "      <td>rental_investment</td>\n",
       "      <td>NaN</td>\n",
       "      <td>NaN</td>\n",
       "      <td>196</td>\n",
       "      <td>Perdu contre autre banque</td>\n",
       "      <td>NaT</td>\n",
       "      <td>NaN</td>\n",
       "      <td>NaN</td>\n",
       "      <td>0</td>\n",
       "    </tr>\n",
       "    <tr>\n",
       "      <th>3602</th>\n",
       "      <td>2019-01-03</td>\n",
       "      <td>Gagné</td>\n",
       "      <td>primary_residence</td>\n",
       "      <td>old</td>\n",
       "      <td>NaN</td>\n",
       "      <td>59</td>\n",
       "      <td>NaN</td>\n",
       "      <td>NaT</td>\n",
       "      <td>1.0</td>\n",
       "      <td>NaN</td>\n",
       "      <td>1</td>\n",
       "    </tr>\n",
       "    <tr>\n",
       "      <th>3603</th>\n",
       "      <td>2019-03-06</td>\n",
       "      <td>Perdu</td>\n",
       "      <td>rental_investment</td>\n",
       "      <td>old</td>\n",
       "      <td>NaN</td>\n",
       "      <td>242</td>\n",
       "      <td>Projet en recherche / Projet lointain</td>\n",
       "      <td>2019-03-15</td>\n",
       "      <td>NaN</td>\n",
       "      <td>NaN</td>\n",
       "      <td>0</td>\n",
       "    </tr>\n",
       "    <tr>\n",
       "      <th>3604</th>\n",
       "      <td>2019-02-14</td>\n",
       "      <td>Perdu</td>\n",
       "      <td>primary_residence</td>\n",
       "      <td>old</td>\n",
       "      <td>NaN</td>\n",
       "      <td>112</td>\n",
       "      <td>Ne souhaite pas faire ce dossier</td>\n",
       "      <td>2019-04-01</td>\n",
       "      <td>NaN</td>\n",
       "      <td>NaN</td>\n",
       "      <td>0</td>\n",
       "    </tr>\n",
       "    <tr>\n",
       "      <th>3605</th>\n",
       "      <td>2019-01-22</td>\n",
       "      <td>Perdu</td>\n",
       "      <td>primary_residence</td>\n",
       "      <td>NaN</td>\n",
       "      <td>NaN</td>\n",
       "      <td>140</td>\n",
       "      <td>N'a jamais répondu (+5 appels)</td>\n",
       "      <td>NaT</td>\n",
       "      <td>NaN</td>\n",
       "      <td>NaN</td>\n",
       "      <td>0</td>\n",
       "    </tr>\n",
       "  </tbody>\n",
       "</table>\n",
       "<p>3606 rows × 11 columns</p>\n",
       "</div>"
      ],
      "text/plain": [
       "     Subscribe date Stagename       Project type Property kind Source of lead  \\\n",
       "0        2019-02-25     Gagné  primary_residence           old       partner1   \n",
       "1        2019-02-26     Perdu  primary_residence           new       partner1   \n",
       "2        2019-01-09     Perdu  primary_residence           NaN       partner1   \n",
       "3        2019-03-22     Perdu  primary_residence           new       partner1   \n",
       "4        2019-03-03     Gagné  rental_investment           old       partner1   \n",
       "...             ...       ...                ...           ...            ...   \n",
       "3601     2019-01-26     Perdu  rental_investment           NaN            NaN   \n",
       "3602     2019-01-03     Gagné  primary_residence           old            NaN   \n",
       "3603     2019-03-06     Perdu  rental_investment           old            NaN   \n",
       "3604     2019-02-14     Perdu  primary_residence           old            NaN   \n",
       "3605     2019-01-22     Perdu  primary_residence           NaN            NaN   \n",
       "\n",
       "      Amount                            Lost reason  Lost date  Won  \\\n",
       "0        118                                    NaN        NaT  1.0   \n",
       "1        184         N'a jamais répondu (+5 appels) 2019-03-13  NaN   \n",
       "2        243         N'a jamais répondu (+5 appels)        NaT  NaN   \n",
       "3        215  Projet en recherche / Projet lointain 2019-03-28  NaN   \n",
       "4        142                                    NaN        NaT  1.0   \n",
       "...      ...                                    ...        ...  ...   \n",
       "3601     196              Perdu contre autre banque        NaT  NaN   \n",
       "3602      59                                    NaN        NaT  1.0   \n",
       "3603     242  Projet en recherche / Projet lointain 2019-03-15  NaN   \n",
       "3604     112       Ne souhaite pas faire ce dossier 2019-04-01  NaN   \n",
       "3605     140         N'a jamais répondu (+5 appels)        NaT  NaN   \n",
       "\n",
       "      Cout du lead  Stagename_bin  \n",
       "0              NaN              1  \n",
       "1              NaN              0  \n",
       "2              NaN              0  \n",
       "3              NaN              0  \n",
       "4              NaN              1  \n",
       "...            ...            ...  \n",
       "3601           NaN              0  \n",
       "3602           NaN              1  \n",
       "3603           NaN              0  \n",
       "3604           NaN              0  \n",
       "3605           NaN              0  \n",
       "\n",
       "[3606 rows x 11 columns]"
      ]
     },
     "execution_count": 47,
     "metadata": {},
     "output_type": "execute_result"
    }
   ],
   "source": [
    "df['Stagename_bin'] = df['Stagename'].apply(lambda x: 1 if x == 'Gagné' else 0)\n",
    "df"
   ]
  },
  {
   "cell_type": "code",
   "execution_count": 48,
   "metadata": {},
   "outputs": [],
   "source": [
    "dummies = pd.get_dummies(df['Stagename_bin'])\n",
    "dummies.rename({0: 'Perdu', 1: 'Gagné'}, inplace=True, axis=1)\n",
    "df = pd.concat([df, dummies],axis=1)"
   ]
  },
  {
   "cell_type": "code",
   "execution_count": 49,
   "metadata": {},
   "outputs": [
    {
     "data": {
      "text/plain": [
       "368"
      ]
     },
     "execution_count": 49,
     "metadata": {},
     "output_type": "execute_result"
    }
   ],
   "source": [
    "win = df['Gagné'].sum()\n",
    "win"
   ]
  },
  {
   "cell_type": "code",
   "execution_count": 50,
   "metadata": {},
   "outputs": [
    {
     "data": {
      "text/plain": [
       "primary_residence      2878\n",
       "rental_investment       665\n",
       "secondary_residence      57\n",
       "dtype: int64"
      ]
     },
     "execution_count": 50,
     "metadata": {},
     "output_type": "execute_result"
    }
   ],
   "source": [
    "dum_res = pd.get_dummies(df['Project type'])\n",
    "dum_res.sum()"
   ]
  },
  {
   "cell_type": "code",
   "execution_count": 51,
   "metadata": {},
   "outputs": [],
   "source": [
    "df.rename(columns={ 'Lost reason': 'Lost_reason', 'Source of lead': 'Source_of_lead'}, inplace=True)"
   ]
  },
  {
   "cell_type": "code",
   "execution_count": 52,
   "metadata": {},
   "outputs": [
    {
     "data": {
      "text/plain": [
       "Source_of_lead\n",
       "partner1     13996\n",
       "partner10     4153\n",
       "partner2     34871\n",
       "partner3      7301\n",
       "partner4     65485\n",
       "partner5      3940\n",
       "partner6     23800\n",
       "partner7       690\n",
       "partner8      1935\n",
       "partner9     99044\n",
       "Name: Amount, dtype: int64"
      ]
     },
     "execution_count": 52,
     "metadata": {},
     "output_type": "execute_result"
    }
   ],
   "source": [
    "test = df.groupby('Source_of_lead')['Amount'].sum()\n",
    "test"
   ]
  },
  {
   "cell_type": "code",
   "execution_count": 53,
   "metadata": {},
   "outputs": [
    {
     "data": {
      "text/plain": [
       "array([nan, \"N'a jamais répondu (+5 appels)\",\n",
       "       'Projet en recherche / Projet lointain',\n",
       "       'Ne souhaite pas faire ce dossier', 'Perdu contre autre banque',\n",
       "       'A répondu mais ne répond plus (+5 appels)', 'Test',\n",
       "       'Dossier non finançable', 'Projet arrêté', 'Faux email & numéro',\n",
       "       'Doublon', 'Perdu contre autre courtier',\n",
       "       'Client extrêmement difficile'], dtype=object)"
      ]
     },
     "execution_count": 53,
     "metadata": {},
     "output_type": "execute_result"
    }
   ],
   "source": [
    "df.Lost_reason.unique()"
   ]
  },
  {
   "cell_type": "code",
   "execution_count": 56,
   "metadata": {},
   "outputs": [
    {
     "data": {
      "text/plain": [
       "array(['primary_residence', 'rental_investment', 'secondary_residence',\n",
       "       'other'], dtype=object)"
      ]
     },
     "execution_count": 56,
     "metadata": {},
     "output_type": "execute_result"
    }
   ],
   "source": [
    "df['Project type'] = df['Project type'].fillna('other')"
   ]
  }
 ],
 "metadata": {
  "kernelspec": {
   "display_name": "Python 3",
   "language": "python",
   "name": "python3"
  },
  "language_info": {
   "codemirror_mode": {
    "name": "ipython",
    "version": 3
   },
   "file_extension": ".py",
   "mimetype": "text/x-python",
   "name": "python",
   "nbconvert_exporter": "python",
   "pygments_lexer": "ipython3",
   "version": "3.11.1"
  },
  "orig_nbformat": 4,
  "vscode": {
   "interpreter": {
    "hash": "5238573367df39f7286bb46f9ff5f08f63a01a80960060ce41e3c79b190280fa"
   }
  }
 },
 "nbformat": 4,
 "nbformat_minor": 2
}
